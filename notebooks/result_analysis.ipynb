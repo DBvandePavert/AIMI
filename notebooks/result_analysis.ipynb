{
 "cells": [
  {
   "cell_type": "code",
   "execution_count": null,
   "metadata": {},
   "outputs": [],
   "source": [
    "import pandas as pd\n",
    "filename = \"\"\n",
    "results = pd.read_feather(filename)"
   ]
  }
 ],
 "metadata": {
  "kernelspec": {
   "display_name": "Python 3.10.4 ('med-img')",
   "language": "python",
   "name": "python3"
  },
  "language_info": {
   "name": "python",
   "version": "3.10.4"
  },
  "orig_nbformat": 4,
  "vscode": {
   "interpreter": {
    "hash": "235565d7d01cafd50be0b14e683116acf35705a4b38a399b849f52225f2dd45d"
   }
  }
 },
 "nbformat": 4,
 "nbformat_minor": 2
}
