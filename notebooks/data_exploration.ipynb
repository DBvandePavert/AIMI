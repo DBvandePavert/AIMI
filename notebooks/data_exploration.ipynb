{
 "cells": [
  {
   "cell_type": "markdown",
   "id": "4a2e9bcc",
   "metadata": {},
   "source": [
    "# Data exploration notebook\n",
    "Used for investigating datasets"
   ]
  },
  {
   "cell_type": "code",
   "execution_count": null,
   "id": "65571e23-c326-4500-b769-7ddcbd20493b",
   "metadata": {},
   "outputs": [],
   "source": [
    "# %matplotlib notebook\n",
    "%matplotlib widget"
   ]
  },
  {
   "cell_type": "code",
   "execution_count": null,
   "id": "0b538e6e-4c12-47ce-b3bc-81815b9b401b",
   "metadata": {},
   "outputs": [],
   "source": [
    "import matplotlib.pyplot as plt\n",
    "import numpy as np\n",
    "import SimpleITK as sitk\n",
    "import os"
   ]
  },
  {
   "cell_type": "code",
   "execution_count": null,
   "id": "b7f6b571-047b-4817-96fa-5e274a2dd22f",
   "metadata": {},
   "outputs": [],
   "source": [
    "# print(os.getcwd())\n",
    "os.chdir(\"..\")\n",
    "os.chdir(\"data/data_train_plus_test_sourceres/train\")"
   ]
  },
  {
   "cell_type": "code",
   "execution_count": null,
   "id": "6ecc60fa-6c5b-44da-a1d5-2a3a0efd1e77",
   "metadata": {},
   "outputs": [],
   "source": [
    "images_source = sitk.ReadImage('source_resolution/SET_A_01.nii.gz')\n",
    "images_target = sitk.ReadImage('target_resolution/SET_A_01.nii.gz')"
   ]
  },
  {
   "cell_type": "code",
   "execution_count": null,
   "id": "71a9f914-a86f-4cff-a550-5c54693dba79",
   "metadata": {},
   "outputs": [],
   "source": [
    "source = sitk.GetArrayFromImage(images_source)\n",
    "target = sitk.GetArrayFromImage(images_target)\n",
    "print(f'source shape: {source.shape}')\n",
    "print(f'target shape: {target.shape}')"
   ]
  },
  {
   "cell_type": "code",
   "execution_count": null,
   "id": "06a38768-dabf-482e-ba45-7684e69c8689",
   "metadata": {
    "pycharm": {
     "is_executing": true
    },
    "scrolled": true,
    "tags": []
   },
   "outputs": [],
   "source": [
    "# Iterate over the z axis\n",
    "\n",
    "for i in range(15, 50):\n",
    "    plt.matshow(source[:, :, i], cmap='nipy_spectral_r')"
   ]
  },
  {
   "cell_type": "code",
   "execution_count": null,
   "id": "b98e2fd8-86e1-4c3c-b163-1c7f1a8bd80b",
   "metadata": {
    "pycharm": {
     "is_executing": true
    },
    "scrolled": true,
    "tags": []
   },
   "outputs": [],
   "source": [
    "# Iterate over the y-axis\n",
    "\n",
    "for i in range(50, 60):\n",
    "    plt.matshow(source[: , i, :].T, cmap='nipy_spectral_r')"
   ]
  },
  {
   "cell_type": "code",
   "execution_count": null,
   "id": "c53db473-8a15-455b-853b-85468ee814fd",
   "metadata": {
    "pycharm": {
     "is_executing": true,
     "name": "#%%\n"
    },
    "scrolled": true,
    "tags": []
   },
   "outputs": [],
   "source": [
    "# Iterate over the x-axis\n",
    "\n",
    "for i in range(100, 110):\n",
    "    plt.matshow(source[i , :, :].T, cmap='nipy_spectral_r')"
   ]
  },
  {
   "cell_type": "code",
   "execution_count": null,
   "metadata": {
    "collapsed": false,
    "pycharm": {
     "name": "#%%\n"
    }
   },
   "outputs": [],
   "source": [
    "print(np.max(source))\n",
    "print(np.min(source))\n",
    "\n",
    "\n",
    "flat = source.flatten()\n",
    "\n",
    "print(flat.shape)\n",
    "plt.hist(flat, bins=100, range=(0,1))\n",
    "plt.show()\n"
   ]
  },
  {
   "cell_type": "code",
   "execution_count": null,
   "metadata": {
    "collapsed": false,
    "pycharm": {
     "name": "#%%\n"
    }
   },
   "outputs": [],
   "source": []
  }
 ],
 "metadata": {
  "kernelspec": {
   "display_name": "Python 3.10.4 ('med-img')",
   "language": "python",
   "name": "python3"
  },
  "language_info": {
   "codemirror_mode": {
    "name": "ipython",
    "version": 3
   },
   "file_extension": ".py",
   "mimetype": "text/x-python",
   "name": "python",
   "nbconvert_exporter": "python",
   "pygments_lexer": "ipython3",
   "version": "3.10.4"
  },
  "vscode": {
   "interpreter": {
    "hash": "235565d7d01cafd50be0b14e683116acf35705a4b38a399b849f52225f2dd45d"
   }
  }
 },
 "nbformat": 4,
 "nbformat_minor": 5
}
